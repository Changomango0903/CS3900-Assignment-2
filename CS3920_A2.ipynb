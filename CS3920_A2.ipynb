{
 "cells": [
  {
   "cell_type": "markdown",
   "metadata": {},
   "source": [
    "##### 1. Preparing the Datasets"
   ]
  },
  {
   "cell_type": "code",
   "execution_count": 1,
   "metadata": {},
   "outputs": [],
   "source": [
    "from sklearn.datasets import load_wine\n",
    "from sklearn.model_selection import train_test_split\n",
    "\n",
    "wine = load_wine()"
   ]
  },
  {
   "cell_type": "code",
   "execution_count": 2,
   "metadata": {},
   "outputs": [],
   "source": [
    "import numpy as np\n",
    "\n",
    "zip_test_X = np.genfromtxt('zip.test', delimiter=' ', usecols=np.arange(1, 257))\n",
    "zip_test_Y = np.genfromtxt('zip.test', delimiter=' ', usecols=0, dtype='int')\n",
    "zip_train_X = np.genfromtxt('zip.train', delimiter=' ', usecols=np.arange(1, 257))\n",
    "zip_train_Y = np.genfromtxt('zip.train', delimiter = ' ', usecols=0).astype(int)\n",
    "\n",
    "zip_X = np.concatenate([zip_test_X, zip_train_X])\n",
    "zip_Y = np.concatenate([zip_test_Y, zip_train_Y])"
   ]
  },
  {
   "cell_type": "markdown",
   "metadata": {},
   "source": [
    "#### 2. Splitting into train set and test set"
   ]
  },
  {
   "cell_type": "code",
   "execution_count": 3,
   "metadata": {},
   "outputs": [],
   "source": [
    "wine_X_train, wine_X_test, wine_y_train, wine_y_test = train_test_split(wine.data, wine.target, random_state=309)\n",
    "zip_X_train , zip_X_test, zip_y_train, zip_y_test = train_test_split(zip_X, zip_Y, random_state=309)"
   ]
  },
  {
   "cell_type": "markdown",
   "metadata": {},
   "source": [
    "#### 3. Estimating generalization accuracy"
   ]
  },
  {
   "cell_type": "code",
   "execution_count": 4,
   "metadata": {},
   "outputs": [
    {
     "name": "stdout",
     "output_type": "stream",
     "text": [
      "Generalization Accuracy for the Wine Dataset:  0.6692307692307693\n"
     ]
    }
   ],
   "source": [
    "from sklearn.svm import SVC\n",
    "from sklearn.model_selection import cross_val_score\n",
    "\n",
    "svm = SVC().fit(wine_X_train, wine_y_train)\n",
    "generalization_accuracy = cross_val_score(svm, wine_X_train, wine_y_train).mean()\n",
    "print(\"Generalization Accuracy for the Wine Dataset: \", generalization_accuracy)"
   ]
  },
  {
   "cell_type": "code",
   "execution_count": 5,
   "metadata": {},
   "outputs": [
    {
     "name": "stdout",
     "output_type": "stream",
     "text": [
      "Test Error Rate for Wine Dataset:  0.37777777777777777\n"
     ]
    }
   ],
   "source": [
    "test_error_rate = 1 - svm.score(wine_X_test, wine_y_test)\n",
    "print(\"Test Error Rate for Wine Dataset: \", test_error_rate)"
   ]
  },
  {
   "cell_type": "code",
   "execution_count": 6,
   "metadata": {},
   "outputs": [
    {
     "name": "stdout",
     "output_type": "stream",
     "text": [
      "Generalization Accuracy for the Zip Dataset:  0.9710318158210045\n"
     ]
    }
   ],
   "source": [
    "svm = SVC().fit(zip_X_train, zip_y_train)\n",
    "generalization_accuracy = cross_val_score(svm, zip_X_train, zip_y_train).mean()\n",
    "print(\"Generalization Accuracy for the Zip Dataset: \", generalization_accuracy)\n"
   ]
  },
  {
   "cell_type": "code",
   "execution_count": 7,
   "metadata": {},
   "outputs": [
    {
     "name": "stdout",
     "output_type": "stream",
     "text": [
      "Test Error Rate for Zip Dataset:  0.03354838709677421\n"
     ]
    }
   ],
   "source": [
    "test_error_rate = 1 - svm.score(zip_X_test, zip_y_test)\n",
    "print(\"Test Error Rate for Zip Dataset: \", test_error_rate)"
   ]
  },
  {
   "cell_type": "markdown",
   "metadata": {},
   "source": [
    "4. The test error rate for the Zip dataset is basically the complement of the test accuracy for the Zip dataset. When calculating the test accuracy using the test error rate (1 - test_error_rate), we find that the difference between Generalization accuracy and Test accuracy are quite close. This suggests that our model is generalizing well and is probably not overfitted."
   ]
  },
  {
   "cell_type": "markdown",
   "metadata": {},
   "source": [
    "#### 5 and 6: Pipeline and GridSearchCV for SVM with training and testing"
   ]
  },
  {
   "cell_type": "code",
   "execution_count": 8,
   "metadata": {},
   "outputs": [
    {
     "name": "stdout",
     "output_type": "stream",
     "text": [
      "--------------- Results for Normalizer() ---------------\n",
      "Best cross-validation accuracy: 0.9091168091168091\n",
      "Test set score: 0.8888888888888888\n",
      "Test error rate: 0.11111111111111116\n",
      "Best Parameters: {'svc__C': 100, 'svc__gamma': 10}\n",
      "--------------- Results for StandardScaler() ---------------\n",
      "Best cross-validation accuracy: 0.9851851851851852\n",
      "Test set score: 1.0\n",
      "Test error rate: 0.0\n",
      "Best Parameters: {'svc__C': 1, 'svc__gamma': 0.01}\n",
      "--------------- Results for MinMaxScaler() ---------------\n",
      "Best cross-validation accuracy: 0.9851851851851852\n",
      "Test set score: 0.9777777777777777\n",
      "Test error rate: 0.022222222222222254\n",
      "Best Parameters: {'svc__C': 10, 'svc__gamma': 0.1}\n",
      "--------------- Results for RobustScaler() ---------------\n",
      "Best cross-validation accuracy: 0.9851851851851852\n",
      "Test set score: 0.9777777777777777\n",
      "Test error rate: 0.022222222222222254\n",
      "Best Parameters: {'svc__C': 10, 'svc__gamma': 0.01}\n"
     ]
    }
   ],
   "source": [
    "from sklearn.preprocessing import Normalizer, StandardScaler, MinMaxScaler, RobustScaler\n",
    "from sklearn.pipeline import make_pipeline\n",
    "\n",
    "scalers = [Normalizer(), StandardScaler(), MinMaxScaler(), RobustScaler()]\n",
    "pipes = [make_pipeline(scaler, SVC()) for scaler in scalers]\n",
    "wine_grids = []\n",
    "zip_grids = []\n",
    "param_grid = {'svc__C': [0.01, 0.1, 1, 10, 100],\n",
    "              'svc__gamma': [0.001, 0.01, 0.1, 1, 10, 100]}\n",
    "\n",
    "from sklearn.model_selection import GridSearchCV\n",
    "\n",
    "for pipe in pipes:\n",
    "    grid = GridSearchCV(pipe, param_grid=param_grid, cv=5)\n",
    "    wine_grids.append(grid)\n",
    "    grid.fit(wine_X_train, wine_y_train)\n",
    "    print(\"--------------- Results for \" + str(pipe.steps[0][1]) + \" ---------------\")\n",
    "    print(\"Best cross-validation accuracy:\", grid.best_score_)\n",
    "    print(\"Test set score:\", grid.score(wine_X_test, wine_y_test))\n",
    "    print(\"Test error rate:\", 1 - grid.score(wine_X_test, wine_y_test))\n",
    "    print(\"Best Parameters:\", grid.best_params_)"
   ]
  },
  {
   "cell_type": "code",
   "execution_count": 9,
   "metadata": {},
   "outputs": [
    {
     "name": "stdout",
     "output_type": "stream",
     "text": [
      "--------------- Results for Normalizer() ---------------\n",
      "Best cross-validation accuracy: 0.9731830733867112\n",
      "Test set score: 0.9724731182795698\n",
      "Test error rate: 0.027526881720430163\n",
      "Best Parameters: {'svc__C': 100, 'svc__gamma': 1}\n",
      "--------------- Results for StandardScaler() ---------------\n",
      "Best cross-validation accuracy: 0.9664426651856651\n",
      "Test set score: 0.9625806451612903\n",
      "Test error rate: 0.03741935483870973\n",
      "Best Parameters: {'svc__C': 10, 'svc__gamma': 0.001}\n",
      "--------------- Results for MinMaxScaler() ---------------\n",
      "Best cross-validation accuracy: 0.9690239274309252\n",
      "Test set score: 0.9673118279569892\n",
      "Test error rate: 0.03268817204301078\n",
      "Best Parameters: {'svc__C': 10, 'svc__gamma': 0.01}\n",
      "--------------- Results for RobustScaler() ---------------\n",
      "Best cross-validation accuracy: 0.9209759182980823\n",
      "Test set score: 0.9359139784946237\n",
      "Test error rate: 0.06408602150537634\n",
      "Best Parameters: {'svc__C': 100, 'svc__gamma': 0.001}\n"
     ]
    }
   ],
   "source": [
    "for pipe in pipes:\n",
    "    grid = GridSearchCV(pipe, param_grid=param_grid, cv=5, n_jobs=-1)\n",
    "    zip_grids.append(grid)\n",
    "    grid.fit(zip_X_train, zip_y_train)\n",
    "    print(\"--------------- Results for \" + str(pipe.steps[0][1]) + \" ---------------\")\n",
    "    print(\"Best cross-validation accuracy:\", grid.best_score_)\n",
    "    print(\"Test set score:\", grid.score(zip_X_test, zip_y_test))\n",
    "    print(\"Test error rate:\", 1 - grid.score(zip_X_test, zip_y_test))\n",
    "    print(\"Best Parameters:\", grid.best_params_)"
   ]
  },
  {
   "cell_type": "markdown",
   "metadata": {},
   "source": [
    "##### 7. Cross-conformal predictor using Normalizer()"
   ]
  },
  {
   "cell_type": "code",
   "execution_count": 10,
   "metadata": {},
   "outputs": [],
   "source": [
    "from sklearn.model_selection import KFold\n",
    "\n",
    "class cross_conformal_predictor:\n",
    "    def __init__(self, X_train, y_train, grid):\n",
    "        self.grid = grid\n",
    "        self.X_train = X_train\n",
    "        self.y_train = y_train\n",
    "    def cross_conformal_predictor(self, X_samples, y_samples, k_folds:int = 5):\n",
    "        X_train = self.X_train\n",
    "        y_train = self.y_train\n",
    "        n_train = len(X_train)\n",
    "        labels = set(y_train)\n",
    "        n_test = len(X_samples)\n",
    "        p = np.zeros((n_test, len(labels)))\n",
    "        \n",
    "        kf = KFold(n_splits=k_folds, shuffle = True, random_state=309)\n",
    "        \n",
    "        for rest_index, fold_index in kf.split(X_train, y_train):\n",
    "            X_rest, X_fold = X_train[rest_index], X_train[fold_index]\n",
    "            y_rest, y_fold = y_train[rest_index], y_train[fold_index]\n",
    "            \n",
    "            self.grid.fit(X_rest, y_rest)\n",
    "            fold_scores = self.grid.decision_function(X_fold)\n",
    "            sample_scores = self.grid.decision_function(X_samples)\n",
    "            true_fold_scores = [(true_class, fold_scores[i][true_class]) for i, true_class in enumerate(y_fold)]\n",
    "            for i in range(n_test): #check each test sample\n",
    "                for scores in true_fold_scores: #iterate through fold scores\n",
    "                    for j in range(len(labels)):\n",
    "                        if scores[1] <= sample_scores[i][j]:\n",
    "                            p[i][j] += 1\n",
    "        for i in range(n_test):\n",
    "            p[i] = (p[i] + 1)/(n_train + 1)       \n",
    "        return p\n",
    "    "
   ]
  },
  {
   "cell_type": "code",
   "execution_count": 11,
   "metadata": {},
   "outputs": [],
   "source": [
    "ccp = cross_conformal_predictor(wine_X_train, wine_y_train, wine_grids[0])\n",
    "p_values = ccp.cross_conformal_predictor(wine_X_test, wine_y_test)"
   ]
  },
  {
   "cell_type": "code",
   "execution_count": 12,
   "metadata": {},
   "outputs": [
    {
     "name": "stdout",
     "output_type": "stream",
     "text": [
      "Average false p value for Wine using Normalizer():  0.05854063018242121\n"
     ]
    }
   ],
   "source": [
    "import math\n",
    "p_total = 0\n",
    "for i, label in enumerate(wine_y_test):\n",
    "    smallest_p_value = -math.inf\n",
    "    for prediction, confidence in enumerate(p_values[i]):\n",
    "        if prediction != label:\n",
    "            p_total += confidence\n",
    "print(f\"Average false p value for Wine using {pipes[0].steps[0][1]}: \", p_total/(len(wine_X_test)))"
   ]
  },
  {
   "cell_type": "code",
   "execution_count": 13,
   "metadata": {},
   "outputs": [
    {
     "data": {
      "text/plain": [
       "[<matplotlib.lines.Line2D at 0x7f9128d3b510>]"
      ]
     },
     "execution_count": 13,
     "metadata": {},
     "output_type": "execute_result"
    },
    {
     "data": {
      "image/png": "[encoded data removed]",
      "text/plain": [
       "<Figure size 640x480 with 1 Axes>"
      ]
     },
     "metadata": {},
     "output_type": "display_data"
    }
   ],
   "source": [
    "%matplotlib inline\n",
    "import matplotlib.pyplot as plt\n",
    "\n",
    "eps = np.zeros(100)\n",
    "err = np.zeros(100)\n",
    "for k in range(100):\n",
    "    eps[k] = k/100\n",
    "    err[k] = 0\n",
    "    for j in range(wine_X_test.shape[0]):\n",
    "        if (p_values[j, wine_y_test[j]] <= eps[k]):\n",
    "            err[k] = err[k] + 1\n",
    "    err[k] = err[k] / wine_X_test.shape[0]\n",
    "plt.title(f\"Calibration curve for wine dataset with GridSearchCV object using {pipes[0].steps[0][1]}\")\n",
    "plt.plot(eps, err)"
   ]
  },
  {
   "cell_type": "code",
   "execution_count": 14,
   "metadata": {},
   "outputs": [],
   "source": [
    "ccp = cross_conformal_predictor(zip_X_train, zip_y_train, zip_grids[0])\n",
    "p_values = ccp.cross_conformal_predictor(zip_X_test, zip_y_test)"
   ]
  },
  {
   "cell_type": "code",
   "execution_count": 15,
   "metadata": {},
   "outputs": [
    {
     "name": "stdout",
     "output_type": "stream",
     "text": [
      "Average false p value for USPS using Normalizer():  0.03957309946930784\n"
     ]
    }
   ],
   "source": [
    "p_total = 0\n",
    "for i, label in enumerate(zip_y_test):\n",
    "    smallest_p_value = -math.inf\n",
    "    for prediction, confidence in enumerate(p_values[i]):\n",
    "        if prediction != label:\n",
    "            p_total += confidence\n",
    "print(f\"Average false p value for USPS using {pipes[0].steps[0][1]}: \", p_total/(len(zip_X_test)))"
   ]
  },
  {
   "cell_type": "code",
   "execution_count": 16,
   "metadata": {},
   "outputs": [
    {
     "data": {
      "text/plain": [
       "[<matplotlib.lines.Line2D at 0x7f9128b5c450>]"
      ]
     },
     "execution_count": 16,
     "metadata": {},
     "output_type": "execute_result"
    },
    {
     "data": {
      "image/png": "[encoded data removed]",
      "text/plain": [
       "<Figure size 640x480 with 1 Axes>"
      ]
     },
     "metadata": {},
     "output_type": "display_data"
    }
   ],
   "source": [
    "eps = np.zeros(100)\n",
    "err = np.zeros(100)\n",
    "for k in range(100):\n",
    "    eps[k] = k/100\n",
    "    err[k] = 0\n",
    "    for j in range(zip_X_test.shape[0]):\n",
    "        if (p_values[j, zip_y_test[j]] <= eps[k]):\n",
    "            err[k] = err[k] + 1\n",
    "    err[k] = err[k] / zip_X_test.shape[0]\n",
    "plt.title(f\"Calibration curve for USPS dataset with GridSearchCV object using {pipes[0].steps[0][1]}\")\n",
    "plt.plot(eps, err)"
   ]
  }
 ],
 "metadata": {
  "kernelspec": {
   "display_name": ".venv",
   "language": "python",
   "name": "python3"
  },
  "language_info": {
   "codemirror_mode": {
    "name": "ipython",
    "version": 3
   },
   "file_extension": ".py",
   "mimetype": "text/x-python",
   "name": "python",
   "nbconvert_exporter": "python",
   "pygments_lexer": "ipython3",
   "version": "3.11.0rc1"
  }
 },
 "nbformat": 4,
 "nbformat_minor": 2
}
