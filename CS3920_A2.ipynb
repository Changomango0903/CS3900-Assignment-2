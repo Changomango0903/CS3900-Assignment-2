{
 "cells": [
  {
   "cell_type": "markdown",
   "metadata": {},
   "source": [
    "##### Preparing the Datasets"
   ]
  },
  {
   "cell_type": "code",
   "execution_count": 1,
   "metadata": {},
   "outputs": [],
   "source": [
    "from sklearn.datasets import load_wine\n",
    "from sklearn.model_selection import train_test_split\n",
    "\n",
    "wine = load_wine()\n",
    "wine_X_train, wine_X_test, wine_y_train, wine_y_test = train_test_split(wine.data, wine.target, random_state=309)"
   ]
  },
  {
   "cell_type": "code",
   "execution_count": 2,
   "metadata": {},
   "outputs": [],
   "source": [
    "import numpy as np\n",
    "\n",
    "zip_test_X = np.genfromtxt('zip.test', delimiter=' ', usecols=np.arange(1, 257))\n",
    "zip_test_Y = np.genfromtxt('zip.test', delimiter=' ', usecols=0, dtype='int')\n",
    "zip_train_X = np.genfromtxt('zip.train', delimiter=' ', usecols=np.arange(1, 257))\n",
    "zip_train_Y = np.genfromtxt('zip.train', delimiter = ' ', usecols=0).astype(int)\n",
    "\n",
    "zip_X = np.concatenate([zip_test_X, zip_train_X])\n",
    "zip_Y = np.concatenate([zip_test_Y, zip_train_Y])\n",
    "zip_X_train , zip_X_test, zip_y_train, zip_y_test = train_test_split(zip_X, zip_Y, random_state=309)\n"
   ]
  },
  {
   "cell_type": "code",
   "execution_count": 3,
   "metadata": {},
   "outputs": [
    {
     "name": "stdout",
     "output_type": "stream",
     "text": [
      "Generalization Accuracy for the Wine Dataset:  0.6692307692307693\n"
     ]
    }
   ],
   "source": [
    "from sklearn.svm import SVC\n",
    "from sklearn.model_selection import cross_val_score\n",
    "\n",
    "svm = SVC().fit(wine_X_train, wine_y_train)\n",
    "generalization_accuracy = cross_val_score(svm, wine_X_train, wine_y_train).mean()\n",
    "print(\"Generalization Accuracy for the Wine Dataset: \", generalization_accuracy)"
   ]
  },
  {
   "cell_type": "code",
   "execution_count": 4,
   "metadata": {},
   "outputs": [
    {
     "name": "stdout",
     "output_type": "stream",
     "text": [
      "Test Error Rate for Wine Dataset:  0.37777777777777777\n"
     ]
    }
   ],
   "source": [
    "test_error_rate = 1 - svm.score(wine_X_test, wine_y_test)\n",
    "print(\"Test Error Rate for Wine Dataset: \", test_error_rate)"
   ]
  },
  {
   "cell_type": "code",
   "execution_count": 5,
   "metadata": {},
   "outputs": [
    {
     "name": "stdout",
     "output_type": "stream",
     "text": [
      "Generalization Accuracy for the Zip Dataset:  0.9710318158210045\n"
     ]
    }
   ],
   "source": [
    "svm = SVC().fit(zip_X_train, zip_y_train)\n",
    "generalization_accuracy = cross_val_score(svm, zip_X_train, zip_y_train).mean()\n",
    "print(\"Generalization Accuracy for the Zip Dataset: \", generalization_accuracy)\n"
   ]
  },
  {
   "cell_type": "code",
   "execution_count": 6,
   "metadata": {},
   "outputs": [
    {
     "name": "stdout",
     "output_type": "stream",
     "text": [
      "Test Error Rate for Zip Dataset:  0.03354838709677421\n"
     ]
    }
   ],
   "source": [
    "test_error_rate = 1 - svm.score(zip_X_test, zip_y_test)\n",
    "print(\"Test Error Rate for Zip Dataset: \", test_error_rate)"
   ]
  },
  {
   "cell_type": "markdown",
   "metadata": {},
   "source": [
    "4. The test error rate for the Zip dataset is basically the complement of the Generalization Accuracy for the Zip dataset. For the wine dataset, the Test Error Rate is 0.03 or 3% off from being the complement for the Generalization Accuracy. (NEEDS WORK)"
   ]
  },
  {
   "cell_type": "code",
   "execution_count": 15,
   "metadata": {},
   "outputs": [
    {
     "name": "stdout",
     "output_type": "stream",
     "text": [
      "--------------- Results for Normalizer() ---------------\n",
      "Best cross-validation accuracy: 0.9091168091168091\n",
      "Test set score: 0.8888888888888888\n",
      "Test error rate: 0.11111111111111116\n",
      "Best Parameters: {'svc__C': 100, 'svc__gamma': 10}\n",
      "--------------- Results for StandardScaler() ---------------\n",
      "Best cross-validation accuracy: 0.9851851851851852\n",
      "Test set score: 1.0\n",
      "Test error rate: 0.0\n",
      "Best Parameters: {'svc__C': 1, 'svc__gamma': 0.01}\n",
      "--------------- Results for MinMaxScaler() ---------------\n",
      "Best cross-validation accuracy: 0.9851851851851852\n",
      "Test set score: 0.9777777777777777\n",
      "Test error rate: 0.022222222222222254\n",
      "Best Parameters: {'svc__C': 10, 'svc__gamma': 0.1}\n",
      "--------------- Results for RobustScaler() ---------------\n",
      "Best cross-validation accuracy: 0.9851851851851852\n",
      "Test set score: 0.9777777777777777\n",
      "Test error rate: 0.022222222222222254\n",
      "Best Parameters: {'svc__C': 10, 'svc__gamma': 0.01}\n"
     ]
    }
   ],
   "source": [
    "from sklearn.preprocessing import Normalizer, StandardScaler, MinMaxScaler, RobustScaler\n",
    "from sklearn.pipeline import make_pipeline\n",
    "\n",
    "scalers = [Normalizer(), StandardScaler(), MinMaxScaler(), RobustScaler()]\n",
    "pipes = [make_pipeline(scaler, SVC()) for scaler in scalers]\n",
    "\n",
    "param_grid = {'svc__C': [0.01, 0.1, 1, 10, 100],\n",
    "              'svc__gamma': [0.001, 0.01, 0.1, 1, 10, 100]}\n",
    "\n",
    "from sklearn.model_selection import GridSearchCV\n",
    "\n",
    "for pipe in pipes:\n",
    "    grid = GridSearchCV(pipe, param_grid=param_grid, cv=5)\n",
    "    grid.fit(wine_X_train, wine_y_train)\n",
    "    print(\"--------------- Results for \" + str(pipe.steps[0][1]) + \" ---------------\")\n",
    "    print(\"Best cross-validation accuracy:\", grid.best_score_)\n",
    "    print(\"Test set score:\", grid.score(wine_X_test, wine_y_test))\n",
    "    print(\"Test error rate:\", 1 - grid.score(wine_X_test, wine_y_test))\n",
    "    print(\"Best Parameters:\", grid.best_params_)"
   ]
  },
  {
   "cell_type": "code",
   "execution_count": 16,
   "metadata": {},
   "outputs": [
    {
     "name": "stdout",
     "output_type": "stream",
     "text": [
      "--------------- Results for Normalizer() ---------------\n",
      "Best cross-validation accuracy: 0.9731830733867112\n",
      "Test set score: 0.9724731182795698\n",
      "Test error rate: 0.027526881720430163\n",
      "Best Parameters: {'svc__C': 100, 'svc__gamma': 1}\n",
      "--------------- Results for StandardScaler() ---------------\n",
      "Best cross-validation accuracy: 0.9664426651856651\n",
      "Test set score: 0.9625806451612903\n",
      "Test error rate: 0.03741935483870973\n",
      "Best Parameters: {'svc__C': 10, 'svc__gamma': 0.001}\n",
      "--------------- Results for MinMaxScaler() ---------------\n",
      "Best cross-validation accuracy: 0.9690239274309252\n",
      "Test set score: 0.9673118279569892\n",
      "Test error rate: 0.03268817204301078\n",
      "Best Parameters: {'svc__C': 10, 'svc__gamma': 0.01}\n",
      "--------------- Results for RobustScaler() ---------------\n",
      "Best cross-validation accuracy: 0.9209759182980823\n",
      "Test set score: 0.9359139784946237\n",
      "Test error rate: 0.06408602150537634\n",
      "Best Parameters: {'svc__C': 100, 'svc__gamma': 0.001}\n"
     ]
    }
   ],
   "source": [
    "for pipe in pipes:\n",
    "    grid = GridSearchCV(pipe, param_grid=param_grid, cv=5, n_jobs=-1)\n",
    "    grid.fit(zip_X_train, zip_y_train)\n",
    "    print(\"--------------- Results for \" + str(pipe.steps[0][1]) + \" ---------------\")\n",
    "    print(\"Best cross-validation accuracy:\", grid.best_score_)\n",
    "    print(\"Test set score:\", grid.score(zip_X_test, zip_y_test))\n",
    "    print(\"Test error rate:\", 1 - grid.score(zip_X_test, zip_y_test))\n",
    "    print(\"Best Parameters:\", grid.best_params_)"
   ]
  },
  {
   "cell_type": "code",
   "execution_count": null,
   "metadata": {},
   "outputs": [],
   "source": [
    "def cross_conformal_predictor(predictor = SVC(), k_folds:int = 5):\n",
    "    pass"
   ]
  }
 ],
 "metadata": {
  "kernelspec": {
   "display_name": ".venv",
   "language": "python",
   "name": "python3"
  },
  "language_info": {
   "codemirror_mode": {
    "name": "ipython",
    "version": 3
   },
   "file_extension": ".py",
   "mimetype": "text/x-python",
   "name": "python",
   "nbconvert_exporter": "python",
   "pygments_lexer": "ipython3",
   "version": "3.11.0rc1"
  }
 },
 "nbformat": 4,
 "nbformat_minor": 2
}
