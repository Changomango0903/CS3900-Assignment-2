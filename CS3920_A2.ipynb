{
 "cells": [
  {
   "cell_type": "markdown",
   "metadata": {},
   "source": []
  },
  {
   "cell_type": "markdown",
   "metadata": {},
   "source": [
    "##### Preparing the Datasets"
   ]
  },
  {
   "cell_type": "code",
   "execution_count": 33,
   "metadata": {},
   "outputs": [],
   "source": [
    "from sklearn.datasets import load_wine\n",
    "from sklearn.model_selection import train_test_split\n",
    "\n",
    "wine = load_wine()\n",
    "wine_X_train, wine_X_test, wine_y_train, wine_y_test = train_test_split(wine.data, wine.target, random_state=2402)"
   ]
  },
  {
   "cell_type": "code",
   "execution_count": 34,
   "metadata": {},
   "outputs": [],
   "source": [
    "import numpy as np\n",
    "\n",
    "zip_test_X = np.genfromtxt('zip.test', delimiter=' ', usecols=np.arange(1, 257))\n",
    "zip_test_Y = np.genfromtxt('zip.test', delimiter=' ', usecols=0, dtype='int')\n",
    "zip_train_X = np.genfromtxt('zip.train', delimiter=' ', usecols=np.arange(1, 257))\n",
    "zip_train_Y = np.genfromtxt('zip.train', delimiter = ' ', usecols=0).astype(int)\n",
    "\n",
    "zip_X = np.concatenate([zip_test_X, zip_train_X])\n",
    "zip_Y = np.concatenate([zip_test_Y, zip_train_Y])\n",
    "zip_X_train , zip_X_test, zip_y_train, zip_y_test = train_test_split(zip_X, zip_Y, random_state=309)\n"
   ]
  },
  {
   "cell_type": "code",
   "execution_count": 35,
   "metadata": {},
   "outputs": [
    {
     "name": "stdout",
     "output_type": "stream",
     "text": [
      "Generalization Accuracy for the Wine Dataset:  0.6917378917378917\n"
     ]
    }
   ],
   "source": [
    "from sklearn.svm import SVC\n",
    "from sklearn.model_selection import cross_val_score\n",
    "\n",
    "svm = SVC().fit(wine_X_train, wine_y_train)\n",
    "generalization_accuracy = cross_val_score(svm, wine_X_train, wine_y_train).mean()\n",
    "print(\"Generalization Accuracy for the Wine Dataset: \", generalization_accuracy)"
   ]
  },
  {
   "cell_type": "code",
   "execution_count": 36,
   "metadata": {},
   "outputs": [
    {
     "name": "stdout",
     "output_type": "stream",
     "text": [
      "Test Error Rate for Wine Dataset:  0.4\n"
     ]
    }
   ],
   "source": [
    "test_error_rate = 1 - svm.score(wine_X_test, wine_y_test)\n",
    "print(\"Test Error Rate for Wine Dataset: \", test_error_rate)"
   ]
  },
  {
   "cell_type": "code",
   "execution_count": 37,
   "metadata": {},
   "outputs": [
    {
     "name": "stdout",
     "output_type": "stream",
     "text": [
      "Generalization Accuracy for the Zip Dataset:  0.9710318158210045\n"
     ]
    }
   ],
   "source": [
    "svm = SVC().fit(zip_X_train, zip_y_train)\n",
    "generalization_accuracy = cross_val_score(svm, zip_X_train, zip_y_train).mean()\n",
    "print(\"Generalization Accuracy for the Zip Dataset: \", generalization_accuracy)\n"
   ]
  },
  {
   "cell_type": "code",
   "execution_count": 38,
   "metadata": {},
   "outputs": [
    {
     "name": "stdout",
     "output_type": "stream",
     "text": [
      "Test Error Rate for Zip Dataset:  0.03354838709677421\n"
     ]
    }
   ],
   "source": [
    "test_error_rate = 1 - svm.score(zip_X_test, zip_y_test)\n",
    "print(\"Test Error Rate for Zip Dataset: \", test_error_rate)"
   ]
  },
  {
   "cell_type": "markdown",
   "metadata": {},
   "source": [
    "4. The test error rate for the Zip dataset is basically the complement of the Generalization Accuracy for the Zip dataset. For the wine dataset, the Test Error Rate is 0.03 or 3% off from being the complement for the Generalization Accuracy. (NEEDS WORK)"
   ]
  },
  {
   "cell_type": "code",
   "execution_count": 39,
   "metadata": {},
   "outputs": [
    {
     "name": "stdout",
     "output_type": "stream",
     "text": [
      "--------------- Results for Normalizer() ---------------\n",
      "Best cross-validation accuracy: 0.9475783475783475\n",
      "Test set score: 0.9333333333333333\n",
      "Test error rate: 0.06666666666666665\n",
      "Best Parameters: {'svc__C': 100, 'svc__gamma': 100}\n",
      "--------------- Results for StandardScaler() ---------------\n",
      "Best cross-validation accuracy: 0.9925925925925926\n",
      "Test set score: 0.9555555555555556\n",
      "Test error rate: 0.0444444444444444\n",
      "Best Parameters: {'svc__C': 1, 'svc__gamma': 0.1}\n",
      "--------------- Results for MinMaxScaler() ---------------\n",
      "Best cross-validation accuracy: 0.9925925925925926\n",
      "Test set score: 0.9777777777777777\n",
      "Test error rate: 0.022222222222222254\n",
      "Best Parameters: {'svc__C': 0.1, 'svc__gamma': 1}\n",
      "--------------- Results for RobustScaler() ---------------\n",
      "Best cross-validation accuracy: 0.9925925925925926\n",
      "Test set score: 0.9555555555555556\n",
      "Test error rate: 0.0444444444444444\n",
      "Best Parameters: {'svc__C': 0.1, 'svc__gamma': 0.1}\n"
     ]
    }
   ],
   "source": [
    "from sklearn.preprocessing import Normalizer, StandardScaler, MinMaxScaler, RobustScaler\n",
    "from sklearn.pipeline import make_pipeline\n",
    "\n",
    "scalers = [Normalizer(), StandardScaler(), MinMaxScaler(), RobustScaler()]\n",
    "pipes = [make_pipeline(scaler, SVC()) for scaler in scalers]\n",
    "wine_grids = []\n",
    "zip_grids = []\n",
    "param_grid = {'svc__C': [0.01, 0.1, 1, 10, 100],\n",
    "              'svc__gamma': [0.001, 0.01, 0.1, 1, 10, 100]}\n",
    "\n",
    "from sklearn.model_selection import GridSearchCV\n",
    "\n",
    "for pipe in pipes:\n",
    "    grid = GridSearchCV(pipe, param_grid=param_grid, cv=5)\n",
    "    wine_grids.append(grid)\n",
    "    grid.fit(wine_X_train, wine_y_train)\n",
    "    print(\"--------------- Results for \" + str(pipe.steps[0][1]) + \" ---------------\")\n",
    "    print(\"Best cross-validation accuracy:\", grid.best_score_)\n",
    "    print(\"Test set score:\", grid.score(wine_X_test, wine_y_test))\n",
    "    print(\"Test error rate:\", 1 - grid.score(wine_X_test, wine_y_test))\n",
    "    print(\"Best Parameters:\", grid.best_params_)"
   ]
  },
  {
   "cell_type": "code",
   "execution_count": 40,
   "metadata": {},
   "outputs": [
    {
     "name": "stdout",
     "output_type": "stream",
     "text": [
      "--------------- Results for Normalizer() ---------------\n",
      "Best cross-validation accuracy: 0.9731830733867112\n",
      "Test set score: 0.9724731182795698\n",
      "Test error rate: 0.027526881720430163\n",
      "Best Parameters: {'svc__C': 100, 'svc__gamma': 1}\n",
      "--------------- Results for StandardScaler() ---------------\n",
      "Best cross-validation accuracy: 0.9664426651856651\n",
      "Test set score: 0.9625806451612903\n",
      "Test error rate: 0.03741935483870973\n",
      "Best Parameters: {'svc__C': 10, 'svc__gamma': 0.001}\n",
      "--------------- Results for MinMaxScaler() ---------------\n",
      "Best cross-validation accuracy: 0.9690239274309252\n",
      "Test set score: 0.9673118279569892\n",
      "Test error rate: 0.03268817204301078\n",
      "Best Parameters: {'svc__C': 10, 'svc__gamma': 0.01}\n",
      "--------------- Results for RobustScaler() ---------------\n",
      "Best cross-validation accuracy: 0.9209759182980823\n",
      "Test set score: 0.9359139784946237\n",
      "Test error rate: 0.06408602150537634\n",
      "Best Parameters: {'svc__C': 100, 'svc__gamma': 0.001}\n"
     ]
    }
   ],
   "source": [
    "for pipe in pipes:\n",
    "    grid = GridSearchCV(pipe, param_grid=param_grid, cv=5, n_jobs=-1)\n",
    "    zip_grids.append(grid)\n",
    "    grid.fit(zip_X_train, zip_y_train)\n",
    "    print(\"--------------- Results for \" + str(pipe.steps[0][1]) + \" ---------------\")\n",
    "    print(\"Best cross-validation accuracy:\", grid.best_score_)\n",
    "    print(\"Test set score:\", grid.score(zip_X_test, zip_y_test))\n",
    "    print(\"Test error rate:\", 1 - grid.score(zip_X_test, zip_y_test))\n",
    "    print(\"Best Parameters:\", grid.best_params_)"
   ]
  },
  {
   "cell_type": "code",
   "execution_count": 45,
   "metadata": {},
   "outputs": [],
   "source": [
    "from sklearn.model_selection import KFold\n",
    "\n",
    "class cross_conformal_predictor:\n",
    "    def __init__(self, X_train, y_train, grid):\n",
    "        self.grid = grid\n",
    "        self.X_train = X_train\n",
    "        self.y_train = y_train\n",
    "    def cross_conformal_predictor(self, X_samples, y_samples, k_folds:int = 5):\n",
    "        X_train = self.X_train\n",
    "        y_train = self.y_train\n",
    "        n_train = len(X_train)\n",
    "        labels = set(y_train)\n",
    "        n_test = len(X_samples)\n",
    "        p = np.zeros((n_test, len(labels)))\n",
    "        \n",
    "        kf = KFold(n_splits=k_folds, shuffle = True, random_state=2402)\n",
    "        \n",
    "        for rest_index, fold_index in kf.split(X_train, y_train):\n",
    "            X_rest, X_fold = X_train[rest_index], X_train[fold_index]\n",
    "            y_rest, y_fold = y_train[rest_index], y_train[fold_index]\n",
    "            \n",
    "            self.grid.fit(X_rest, y_rest)\n",
    "            fold_scores = self.grid.decision_function(X_fold)\n",
    "            sample_scores = self.grid.decision_function(X_samples)\n",
    "            true_fold_scores = [(true_class, fold_scores[i][true_class]) for i, true_class in enumerate(y_fold)]\n",
    "            print(true_fold_scores)\n",
    "            for i in range(n_test): #check each test sample\n",
    "                for scores in true_fold_scores: #iterate through fold scores\n",
    "                    for j in range(len(labels)):\n",
    "                        if scores[1] <= sample_scores[i][j]:\n",
    "                            p[i][j] += 1\n",
    "        print(p)\n",
    "        for i in range(n_test):\n",
    "            p[i] = (p[i] + 1)/(n_train + 1)       \n",
    "        print(p)\n",
    "        return p\n",
    "    "
   ]
  },
  {
   "cell_type": "code",
   "execution_count": 46,
   "metadata": {},
   "outputs": [
    {
     "name": "stdout",
     "output_type": "stream",
     "text": [
      "[(np.int64(0), np.float64(2.2846966245824474)), (np.int64(1), np.float64(2.2745096054499863)), (np.int64(1), np.float64(2.272648346636991)), (np.int64(2), np.float64(2.275774149776278)), (np.int64(1), np.float64(2.2561747781227495)), (np.int64(1), np.float64(1.211840448292521)), (np.int64(1), np.float64(2.209438540167493)), (np.int64(0), np.float64(2.2853204039316957)), (np.int64(2), np.float64(2.2716176873487948)), (np.int64(2), np.float64(2.1881897231323206)), (np.int64(0), np.float64(2.263292928637926)), (np.int64(2), np.float64(2.255979345684811)), (np.int64(2), np.float64(2.266091445642108)), (np.int64(1), np.float64(2.264720970602114)), (np.int64(2), np.float64(2.2695454195332236)), (np.int64(2), np.float64(2.2162052966433543)), (np.int64(0), np.float64(2.281480076231089)), (np.int64(0), np.float64(0.8098361257798852)), (np.int64(1), np.float64(2.2758645971018634)), (np.int64(2), np.float64(2.1914374246247696)), (np.int64(1), np.float64(2.2571617422307653)), (np.int64(0), np.float64(2.283515248847798)), (np.int64(1), np.float64(2.219603731179039)), (np.int64(1), np.float64(2.2647511117340606)), (np.int64(2), np.float64(2.062978535096911)), (np.int64(1), np.float64(2.2681665791825263)), (np.int64(2), np.float64(2.269858129590215))]\n",
      "[(np.int64(1), np.float64(2.2507948222181002)), (np.int64(0), np.float64(2.275966570096227)), (np.int64(2), np.float64(2.2399610895424837)), (np.int64(1), np.float64(1.034510795295805)), (np.int64(1), np.float64(2.2779246910189572)), (np.int64(1), np.float64(2.2195930328448283)), (np.int64(1), np.float64(2.272755219962636)), (np.int64(2), np.float64(2.27482451526426)), (np.int64(1), np.float64(2.2823563400674445)), (np.int64(1), np.float64(2.276609330970595)), (np.int64(1), np.float64(2.281366007800465)), (np.int64(2), np.float64(2.289542733953406)), (np.int64(1), np.float64(2.2693553565101645)), (np.int64(0), np.float64(2.2702062385980692)), (np.int64(1), np.float64(2.235833423349006)), (np.int64(0), np.float64(2.2807540016945014)), (np.int64(1), np.float64(2.246038567807473)), (np.int64(1), np.float64(1.2357531830233806)), (np.int64(0), np.float64(0.8426584015024104)), (np.int64(2), np.float64(2.2471431004269378)), (np.int64(1), np.float64(2.2818397881350614)), (np.int64(1), np.float64(2.223672175107927)), (np.int64(0), np.float64(2.283498386077511)), (np.int64(0), np.float64(2.286532417439895)), (np.int64(0), np.float64(2.25715223104253)), (np.int64(2), np.float64(2.1397359270922123)), (np.int64(1), np.float64(2.2866895608480515))]\n",
      "[(np.int64(0), np.float64(2.1765100361812735)), (np.int64(1), np.float64(2.2297571969484684)), (np.int64(0), np.float64(2.276184283687644)), (np.int64(2), np.float64(2.2743262342183512)), (np.int64(0), np.float64(2.2620302608121023)), (np.int64(0), np.float64(2.216907062974402)), (np.int64(0), np.float64(2.2184652464649286)), (np.int64(2), np.float64(2.1776644947323125)), (np.int64(2), np.float64(2.275522298902895)), (np.int64(1), np.float64(2.2583222864080637)), (np.int64(0), np.float64(2.281838005898747)), (np.int64(0), np.float64(2.277427458352924)), (np.int64(1), np.float64(2.250283705387023)), (np.int64(0), np.float64(2.2467755422429483)), (np.int64(0), np.float64(2.2557851123658548)), (np.int64(0), np.float64(2.218331410232334)), (np.int64(0), np.float64(2.2686939450877848)), (np.int64(0), np.float64(2.2598437873358908)), (np.int64(0), np.float64(2.226851607868479)), (np.int64(1), np.float64(2.218319863900259)), (np.int64(1), np.float64(2.247619951581817)), (np.int64(1), np.float64(2.2302698544092108)), (np.int64(2), np.float64(2.1731477748955936)), (np.int64(2), np.float64(2.2692835067466897)), (np.int64(2), np.float64(2.260578991741116)), (np.int64(0), np.float64(2.279316490952145)), (np.int64(2), np.float64(2.261897269022168))]\n",
      "[(np.int64(1), np.float64(2.2217981114163985)), (np.int64(0), np.float64(2.256667745798462)), (np.int64(2), np.float64(2.239351108528255)), (np.int64(0), np.float64(2.275904214878201)), (np.int64(0), np.float64(2.2607114262719947)), (np.int64(0), np.float64(2.28410041484132)), (np.int64(0), np.float64(2.2640623179179786)), (np.int64(1), np.float64(2.2622378590317886)), (np.int64(1), np.float64(2.276798514197194)), (np.int64(2), np.float64(2.2783782602691804)), (np.int64(1), np.float64(2.2589754871897965)), (np.int64(2), np.float64(2.2626498555412358)), (np.int64(1), np.float64(2.215843466169352)), (np.int64(1), np.float64(2.2546683164461254)), (np.int64(2), np.float64(2.208741928234556)), (np.int64(1), np.float64(2.2119859749248714)), (np.int64(1), np.float64(2.2392349308619734)), (np.int64(0), np.float64(2.2741732838152826)), (np.int64(2), np.float64(2.2785798971930147)), (np.int64(2), np.float64(2.2041663764013357)), (np.int64(0), np.float64(2.142246673239763)), (np.int64(2), np.float64(2.2659093657528984)), (np.int64(2), np.float64(2.2430376103903535)), (np.int64(2), np.float64(2.27342065344345)), (np.int64(0), np.float64(2.2236632951744637)), (np.int64(1), np.float64(2.2164083860670543))]\n",
      "[(np.int64(1), np.float64(2.216242907580467)), (np.int64(2), np.float64(2.229474696271884)), (np.int64(0), np.float64(2.2711709475167208)), (np.int64(1), np.float64(2.0773758022865794)), (np.int64(2), np.float64(2.1644550088246612)), (np.int64(1), np.float64(2.22949780909431)), (np.int64(1), np.float64(2.226688313927024)), (np.int64(0), np.float64(2.263387180320784)), (np.int64(0), np.float64(2.208682035287941)), (np.int64(0), np.float64(2.273345887918372)), (np.int64(1), np.float64(2.257340924787944)), (np.int64(1), np.float64(2.1652586977552497)), (np.int64(0), np.float64(2.277156446241181)), (np.int64(1), np.float64(2.2567782424525005)), (np.int64(0), np.float64(2.246552398719863)), (np.int64(1), np.float64(2.262195051536655)), (np.int64(0), np.float64(2.281003772923805)), (np.int64(0), np.float64(2.267470545823868)), (np.int64(0), np.float64(2.2575677161654024)), (np.int64(2), np.float64(2.2087173649397145)), (np.int64(0), np.float64(2.2472644065738523)), (np.int64(1), np.float64(2.2135208460471376)), (np.int64(1), np.float64(2.251231260740774)), (np.int64(1), np.float64(2.2238823491198603)), (np.int64(0), np.float64(2.2112892828992607)), (np.int64(0), np.float64(2.279501804268031))]\n",
      "[[ 85.   0.   0.]\n",
      " [  3.  14.   0.]\n",
      " [109.   0.   1.]\n",
      " [  0.  52.   2.]\n",
      " [  3.   6.   0.]\n",
      " [ 11.   3.   0.]\n",
      " [  0.   1. 100.]\n",
      " [  0.   4.  44.]\n",
      " [133.   0.   3.]\n",
      " [  0.   3.   9.]\n",
      " [  0.  94.   1.]\n",
      " [ 64.   0.   2.]\n",
      " [  0.   2.  52.]\n",
      " [  0. 101.   0.]\n",
      " [103.   0.   1.]\n",
      " [  0.   1.  36.]\n",
      " [  2.  42.   0.]\n",
      " [  0.   3.  24.]\n",
      " [  0.  29.   4.]\n",
      " [130.   0.   3.]\n",
      " [  6.  11.   0.]\n",
      " [  0.   5.  29.]\n",
      " [  0.   3.  26.]\n",
      " [  0.  28.   1.]\n",
      " [  1.  50.   0.]\n",
      " [  0.   3.  41.]\n",
      " [  0.   3.  54.]\n",
      " [130.   0.   3.]\n",
      " [  4.   9.   0.]\n",
      " [  1.  31.   1.]\n",
      " [  0.  51.   1.]\n",
      " [  0.  55.   1.]\n",
      " [  0.  24.   1.]\n",
      " [107.   0.   2.]\n",
      " [  0.   2. 105.]\n",
      " [  0.   2.  86.]\n",
      " [  1.  39.   0.]\n",
      " [  1.  48.   0.]\n",
      " [ 56.   1.   0.]\n",
      " [  0.  48.   0.]\n",
      " [  0.  34.   2.]\n",
      " [  0.   2.  74.]\n",
      " [  0.  68.   0.]\n",
      " [  1.  57.   0.]\n",
      " [  1.  50.   0.]]\n",
      "[[0.64179104 0.00746269 0.00746269]\n",
      " [0.02985075 0.1119403  0.00746269]\n",
      " [0.82089552 0.00746269 0.01492537]\n",
      " [0.00746269 0.39552239 0.02238806]\n",
      " [0.02985075 0.05223881 0.00746269]\n",
      " [0.08955224 0.02985075 0.00746269]\n",
      " [0.00746269 0.01492537 0.75373134]\n",
      " [0.00746269 0.03731343 0.3358209 ]\n",
      " [1.         0.00746269 0.02985075]\n",
      " [0.00746269 0.02985075 0.07462687]\n",
      " [0.00746269 0.70895522 0.01492537]\n",
      " [0.48507463 0.00746269 0.02238806]\n",
      " [0.00746269 0.02238806 0.39552239]\n",
      " [0.00746269 0.76119403 0.00746269]\n",
      " [0.7761194  0.00746269 0.01492537]\n",
      " [0.00746269 0.01492537 0.2761194 ]\n",
      " [0.02238806 0.32089552 0.00746269]\n",
      " [0.00746269 0.02985075 0.18656716]\n",
      " [0.00746269 0.2238806  0.03731343]\n",
      " [0.97761194 0.00746269 0.02985075]\n",
      " [0.05223881 0.08955224 0.00746269]\n",
      " [0.00746269 0.04477612 0.2238806 ]\n",
      " [0.00746269 0.02985075 0.20149254]\n",
      " [0.00746269 0.21641791 0.01492537]\n",
      " [0.01492537 0.38059701 0.00746269]\n",
      " [0.00746269 0.02985075 0.31343284]\n",
      " [0.00746269 0.02985075 0.41044776]\n",
      " [0.97761194 0.00746269 0.02985075]\n",
      " [0.03731343 0.07462687 0.00746269]\n",
      " [0.01492537 0.23880597 0.01492537]\n",
      " [0.00746269 0.3880597  0.01492537]\n",
      " [0.00746269 0.41791045 0.01492537]\n",
      " [0.00746269 0.18656716 0.01492537]\n",
      " [0.80597015 0.00746269 0.02238806]\n",
      " [0.00746269 0.02238806 0.79104478]\n",
      " [0.00746269 0.02238806 0.64925373]\n",
      " [0.01492537 0.29850746 0.00746269]\n",
      " [0.01492537 0.36567164 0.00746269]\n",
      " [0.42537313 0.01492537 0.00746269]\n",
      " [0.00746269 0.36567164 0.00746269]\n",
      " [0.00746269 0.26119403 0.02238806]\n",
      " [0.00746269 0.02238806 0.55970149]\n",
      " [0.00746269 0.51492537 0.00746269]\n",
      " [0.01492537 0.43283582 0.00746269]\n",
      " [0.01492537 0.38059701 0.00746269]]\n"
     ]
    }
   ],
   "source": [
    "ccp = cross_conformal_predictor(wine_X_train, wine_y_train, wine_grids[0])\n",
    "p_values = ccp.cross_conformal_predictor(wine_X_test, wine_y_test)"
   ]
  },
  {
   "cell_type": "code",
   "execution_count": 56,
   "metadata": {},
   "outputs": [
    {
     "name": "stdout",
     "output_type": "stream",
     "text": [
      "0.02819237147595356\n"
     ]
    }
   ],
   "source": [
    "import math\n",
    "p_total = 0\n",
    "for i, label in enumerate(wine_y_test):\n",
    "    smallest_p_value = -math.inf\n",
    "    for prediction, confidence in enumerate(p_values[i]):\n",
    "        if prediction != label:\n",
    "            p_total += confidence\n",
    "print(p_total/(len(wine_X_test)))"
   ]
  },
  {
   "cell_type": "code",
   "execution_count": 57,
   "metadata": {},
   "outputs": [
    {
     "data": {
      "text/plain": [
       "[<matplotlib.lines.Line2D at 0x75890d8c7310>]"
      ]
     },
     "execution_count": 57,
     "metadata": {},
     "output_type": "execute_result"
    },
    {
     "data": {
      "image/png": "[encoded data removed]",
      "text/plain": [
       "<Figure size 640x480 with 1 Axes>"
      ]
     },
     "metadata": {},
     "output_type": "display_data"
    }
   ],
   "source": [
    "%matplotlib inline\n",
    "import matplotlib.pyplot as plt\n",
    "\n",
    "eps = np.zeros(100)\n",
    "err = np.zeros(100)\n",
    "for k in range(100):\n",
    "    eps[k] = k/100\n",
    "    err[k] = 0\n",
    "    for j in range(wine_X_test.shape[0]):\n",
    "        if (p_values[j, wine_y_test[j]] <= eps[k]):\n",
    "            err[k] = err[k] + 1\n",
    "    err[k] = err[k] / wine_X_test.shape[0]\n",
    "plt.plot(eps, err)"
   ]
  }
 ],
 "metadata": {
  "kernelspec": {
   "display_name": ".venv",
   "language": "python",
   "name": "python3"
  },
  "language_info": {
   "codemirror_mode": {
    "name": "ipython",
    "version": 3
   },
   "file_extension": ".py",
   "mimetype": "text/x-python",
   "name": "python",
   "nbconvert_exporter": "python",
   "pygments_lexer": "ipython3",
   "version": "3.11.0rc1"
  }
 },
 "nbformat": 4,
 "nbformat_minor": 2
}
